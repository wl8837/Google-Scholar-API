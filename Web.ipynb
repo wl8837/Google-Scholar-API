{
 "cells": [
  {
   "cell_type": "code",
   "execution_count": null,
   "metadata": {
    "colab": {
     "base_uri": "https://localhost:8080/",
     "height": 187
    },
    "colab_type": "code",
    "executionInfo": {
     "elapsed": 6469,
     "status": "ok",
     "timestamp": 1592681544872,
     "user": {
      "displayName": "徐嘉诰人体气象专家",
      "photoUrl": "https://lh3.googleusercontent.com/a-/AOh14GgqtjU3z9HoRU1EL4V5h6nD9z-WpfAjQ_hN1cgnN6M=s64",
      "userId": "08830249164411099482"
     },
     "user_tz": 300
    },
    "id": "ekKuzrtCNnJl",
    "outputId": "8be83711-30ad-44b7-a459-b4cb47233663"
   },
   "outputs": [],
   "source": []
  },
  {
   "cell_type": "code",
   "execution_count": null,
   "metadata": {
    "colab": {
     "base_uri": "https://localhost:8080/",
     "height": 139
    },
    "colab_type": "code",
    "executionInfo": {
     "elapsed": 3903,
     "status": "ok",
     "timestamp": 1592681577117,
     "user": {
      "displayName": "徐嘉诰人体气象专家",
      "photoUrl": "https://lh3.googleusercontent.com/a-/AOh14GgqtjU3z9HoRU1EL4V5h6nD9z-WpfAjQ_hN1cgnN6M=s64",
      "userId": "08830249164411099482"
     },
     "user_tz": 300
    },
    "id": "vH9C1y21N-Y6",
    "outputId": "be6c34aa-67c1-4ae1-c35c-c068d11ad7b9"
   },
   "outputs": [],
   "source": []
  },
  {
   "cell_type": "code",
   "execution_count": null,
   "metadata": {
    "colab": {},
    "colab_type": "code",
    "id": "iODKw2NWOE6t"
   },
   "outputs": [],
   "source": []
  },
  {
   "cell_type": "code",
   "execution_count": 50,
   "metadata": {
    "colab": {},
    "colab_type": "code",
    "executionInfo": {
     "elapsed": 677,
     "status": "ok",
     "timestamp": 1592681586046,
     "user": {
      "displayName": "徐嘉诰人体气象专家",
      "photoUrl": "https://lh3.googleusercontent.com/a-/AOh14GgqtjU3z9HoRU1EL4V5h6nD9z-WpfAjQ_hN1cgnN6M=s64",
      "userId": "08830249164411099482"
     },
     "user_tz": 300
    },
    "id": "lhHBAg4vNvab"
   },
   "outputs": [],
   "source": [
    "from stem import Signal\n",
    "from stem.control import Controller\n",
    "from selenium import webdriver\n",
    "from selenium.webdriver.chrome.options import Options\n",
    "from bs4 import BeautifulSoup\n",
    "from chromedriver_py import binary_path\n",
    "import hashlib\n",
    "import codecs\n",
    "import pprint\n",
    "import random\n",
    "import re\n",
    "import requests\n",
    "import sys\n",
    "import time"
   ]
  },
  {
   "cell_type": "code",
   "execution_count": 51,
   "metadata": {
    "colab": {},
    "colab_type": "code",
    "executionInfo": {
     "elapsed": 549,
     "status": "ok",
     "timestamp": 1592681592196,
     "user": {
      "displayName": "徐嘉诰人体气象专家",
      "photoUrl": "https://lh3.googleusercontent.com/a-/AOh14GgqtjU3z9HoRU1EL4V5h6nD9z-WpfAjQ_hN1cgnN6M=s64",
      "userId": "08830249164411099482"
     },
     "user_tz": 300
    },
    "id": "uD3e5kUWNnJq"
   },
   "outputs": [],
   "source": [
    "_GOOGLEID = hashlib.md5(str(random.random()).encode('utf-8')).hexdigest()[:16]\n",
    "_COOKIES = {'GSP': 'ID={0}:CF=4'.format(_GOOGLEID)}\n",
    "_HOST = 'https://scholar.google.com'\n",
    "_AUTHSEARCH = '/citations?view_op=search_authors&hl=en&mauthors={0}'\n",
    "_CITATIONAUTH = '/citations?user={0}&hl=en'\n",
    "_CITATIONPUB = '/citations?view_op=view_citation&citation_for_view={0}'\n",
    "_KEYWORDSEARCH = '/citations?view_op=search_authors&hl=en&mauthors=label:{0}'\n",
    "_PUBSEARCH = '/scholar?q={0}'\n",
    "_SCHOLARPUB = '/scholar?oi=bibs&hl=en&cites={0}'\n",
    "\n",
    "_CITATIONAUTHRE = r'user=([\\w-]*)'\n",
    "_CITATIONPUBRE = r'citation_for_view=([\\w-]*:[\\w-]*)'\n",
    "_SCHOLARCITERE = r'gs_ocit\\(event,\\'([\\w-]*)\\''\n",
    "_SCHOLARPUBRE = r'cites=([\\w-]*)'\n",
    "_EMAILAUTHORRE = r'Verified email at '\n",
    "\n",
    "_SESSION = requests.Session()\n",
    "_PAGESIZE = 100"
   ]
  },
  {
   "cell_type": "code",
   "execution_count": null,
   "metadata": {},
   "outputs": [],
   "source": []
  },
  {
   "cell_type": "code",
   "execution_count": 52,
   "metadata": {
    "colab": {},
    "colab_type": "code",
    "executionInfo": {
     "elapsed": 528,
     "status": "ok",
     "timestamp": 1592681598975,
     "user": {
      "displayName": "徐嘉诰人体气象专家",
      "photoUrl": "https://lh3.googleusercontent.com/a-/AOh14GgqtjU3z9HoRU1EL4V5h6nD9z-WpfAjQ_hN1cgnN6M=s64",
      "userId": "08830249164411099482"
     },
     "user_tz": 300
    },
    "id": "xTe6g0H_NnJu"
   },
   "outputs": [],
   "source": [
    "def switchIP():\n",
    "    with Controller.from_port(port = 9051) as controller:\n",
    "        controller.authenticate()\n",
    "        controller.signal(Signal.NEWNYM)\n",
    "\n",
    "def get_browser(PROXY = None):\n",
    "    chrome_options = webdriver.ChromeOptions()\n",
    "    if PROXY != None:\n",
    "        chrome_options.add_argument('--proxy-server=SOCKS5://{0}'.format(PROXY)) \n",
    "    chrome_options.add_argument('blink-settings=imagesEnabled=false') #不加载图片, 提升速度 # don't load \n",
    "    chrome_options.add_argument('--headless') #don't launch visibile browser interface\n",
    "    executable_path='/Users/fewave/project/python/demo/chromedriver' #设置启动驱动\n",
    "    return webdriver.Chrome(executable_path=binary_path, options=chrome_options)\n"
   ]
  },
  {
   "cell_type": "code",
   "execution_count": null,
   "metadata": {},
   "outputs": [],
   "source": []
  },
  {
   "cell_type": "code",
   "execution_count": 78,
   "metadata": {
    "colab": {
     "base_uri": "https://localhost:8080/",
     "height": 426
    },
    "colab_type": "code",
    "executionInfo": {
     "elapsed": 557,
     "status": "error",
     "timestamp": 1592681601630,
     "user": {
      "displayName": "徐嘉诰人体气象专家",
      "photoUrl": "https://lh3.googleusercontent.com/a-/AOh14GgqtjU3z9HoRU1EL4V5h6nD9z-WpfAjQ_hN1cgnN6M=s64",
      "userId": "08830249164411099482"
     },
     "user_tz": 300
    },
    "id": "oX9y7JhjNnJw",
    "outputId": "d53f3ae2-eb71-4111-befe-0a9e635fe3c8"
   },
   "outputs": [
    {
     "data": {
      "text/plain": [
       "{0: {'author': 'J Chen - 2010 - books.google.com',\n",
       "  'article': \"[BOOK][B]Mao's Chinaand thecold war\"},\n",
       " 1: {'author': 'S Zhihua, Z Shen - 2012 - books.google.com',\n",
       "  'article': '[BOOK][B]Mao, Stalin and the Koreanwar: Trilateral communist relations in the 1950s'},\n",
       " 2: {'author': 'RS Ross - 2015 - books.google.com',\n",
       "  'article': '[BOOK][B]China, the United States, and the Soviet Union: tripolarity and policy making in theCold War'},\n",
       " 3: {'author': 'R Mitter\\xa0- Journal of Contemporary History, 2003 - journals.sagepub.com',\n",
       "  'article': \"Old ghosts, new memories:China'schangingwarhistory in the era of post-Maopolitics\"},\n",
       " 4: {'author': 'RS Ross,B Naughton- 1998 - books.google.com',\n",
       "  'article': '[BOOK][B]After theCold War: Domestic Factors and US-ChinaRelations'},\n",
       " 5: {'author': 'TJ Christensen- International Security, 1992 - JSTOR',\n",
       "  'article': \"Threats, assurances, and the last chance for peace: The lessons ofMao'sKoreanwartelegrams\"},\n",
       " 6: {'author': 'T Brook, BM Frolic - 1997 - books.google.com',\n",
       "  'article': '[BOOK][B]Civil society inChina'},\n",
       " 7: {'author': 'JYS Cheng, FW Zhang\\xa0- …\\xa0: Philippine Journal of Third World Studies, 1999 - academia.edu',\n",
       "  'article': '[PDF][PDF]Chineseforeign relation strategies underMaoand Deng: a systematic and comparative analysis'},\n",
       " 8: {'author': 'K Yang - 2002 - books.google.com',\n",
       "  'article': \"[BOOK][B]Changes inMaoZedong's Attitude Toward the IndochinaWar, 1949-1973\"},\n",
       " 9: {'author': 'H Li - 2006 - books.google.com',\n",
       "  'article': '[BOOK][B]Maoand the Economic Stalinization ofChina, 1948–1953'},\n",
       " 10: {'author': 'F Zhang- Survival, 2012 - iiss.tandfonline.com',\n",
       "  'article': \"China'snew thinking on alliances\"},\n",
       " 11: {'author': 'Z Shen, Y Xia - 2015 - books.google.com',\n",
       "  'article': '[BOOK][B]Maoand the Sino–Soviet Partnership, 1945–1959: A New History'},\n",
       " 12: {'author': 'PTY Cheung, JH Chung,Z Lin- 1998 - books.google.com',\n",
       "  'article': '[BOOK][B]Provincial strategies of economic reform in Post-Mao China: leadership, politics, and implementation'},\n",
       " 13: {'author': 'YC Yu, D Riffe\\xa0- Journalism Quarterly, 1989 - journals.sagepub.com',\n",
       "  'article': 'Chiang andMaoin US news magazines'},\n",
       " 14: {'author': 'SG Zhang\\xa0-Cold WarHistory, 2007 - Taylor & Francis',\n",
       "  'article': \"Constructing 'Peaceful Coexistence':China'sDiplomacy toward the Geneva and Bandung Conferences, 1954–55\"}}"
      ]
     },
     "execution_count": 78,
     "metadata": {},
     "output_type": "execute_result"
    }
   ],
   "source": [
    "def get_soup(url):\n",
    "    switchIP()\n",
    "    driver = get_browser()\n",
    "    driver.get(url)\n",
    "    soup = BeautifulSoup(driver.page_source, 'html.parser')\n",
    "    return soup\n",
    "\n",
    "def get_next_page(url):\n",
    "    soup = get_soup(url)\n",
    "    for left in soup.findAll('td', {'align':\"left\"}):\n",
    "        next_page = _HOST+left.find_all('a', href=True)[0]['href']\n",
    "    return next_page\n",
    "\n",
    "\n",
    "def key_word(keyword, max_entry = 15, title_exact_match = False):\n",
    "    url = _HOST+_PUBSEARCH.format(requests.utils.quote(keyword))\n",
    "    number_of_entry=0\n",
    "    counter = 0\n",
    "    turn_page = True\n",
    "    entry = {}\n",
    "    authors = []\n",
    "    title = []\n",
    "    abstract = []\n",
    "    while turn_page == True:\n",
    "        soup=get_soup(url)\n",
    "\n",
    "        for row in soup.findAll('div', {'class':'gs_r gs_or gs_scl'}):\n",
    "            if counter == max_entry:\n",
    "                break\n",
    "            author=soup.findAll('div', {'class':'gs_a'})[counter].get_text(strip=True)\n",
    "            title = soup.findAll('h3', {'class':'gs_rt'})[counter].get_text(strip=True)\n",
    "            entry[number_of_entry] = {'author': author, 'article':title}\n",
    "            number_of_entry+=1\n",
    "            counter +=1\n",
    "\n",
    "        if counter < max_entry:\n",
    "            url = get_next_page(url)\n",
    "            if url == None:\n",
    "                turn_page = False\n",
    "            max_entry = max_entry - counter\n",
    "            counter = 0\n",
    "\n",
    "        else:\n",
    "            turn_page = False\n",
    "\n",
    "    return entry\n",
    "\n",
    "key_word('Maos China and the Cold war')"
   ]
  },
  {
   "cell_type": "code",
   "execution_count": 77,
   "metadata": {
    "colab": {},
    "colab_type": "code",
    "id": "NqjvbkELNnJ2",
    "scrolled": true
   },
   "outputs": [
    {
     "data": {
      "text/plain": [
       "{0: {'author_id': 'piDcgOwAAAAJ',\n",
       "  'name': 'Jian Chen',\n",
       "  'affiliation': 'Associate Professor of Institute of Electronics, Chinese Academy of Sciences',\n",
       "  'email': None,\n",
       "  'feilds': ['Microfluidics'],\n",
       "  'citedby': 'Cited by 37323'},\n",
       " 1: {'author_id': 'GuLkXX4AAAAJ',\n",
       "  'name': 'Jian Chen',\n",
       "  'affiliation': 'University of Leicester',\n",
       "  'email': None,\n",
       "  'feilds': ['vibration',\n",
       "   'acoustics',\n",
       "   'bionic engineering',\n",
       "   'machine condition monitoring',\n",
       "   'and structural health monitoring'],\n",
       "  'citedby': 'Cited by 19979'},\n",
       " 2: {'author_id': 'EO2PG-8AAAAJ',\n",
       "  'name': 'Jian Chen',\n",
       "  'affiliation': 'Chair Professor of Ocean Eng., Southern University of Science and Technology',\n",
       "  'email': None,\n",
       "  'feilds': ['Civil Engineering',\n",
       "   'Structural Engineering',\n",
       "   'Structures',\n",
       "   'FRP',\n",
       "   'DEM'],\n",
       "  'citedby': 'Cited by 11280'},\n",
       " 3: {'author_id': 'W6JT9HsAAAAJ',\n",
       "  'name': 'Jian Chen',\n",
       "  'affiliation': 'Associate Professor, Medical College of Georgia, Augusta University',\n",
       "  'email': None,\n",
       "  'feilds': [],\n",
       "  'citedby': 'Cited by 11147'},\n",
       " 4: {'author_id': 'gA1_RnwAAAAJ',\n",
       "  'name': 'Jian Chen',\n",
       "  'affiliation': 'Tsinghua University',\n",
       "  'email': None,\n",
       "  'feilds': [],\n",
       "  'citedby': 'Cited by 10631'},\n",
       " 5: {'author_id': 'wH2SKWEAAAAJ',\n",
       "  'name': 'Jian Chen',\n",
       "  'affiliation': 'Associate Professor, Peking University',\n",
       "  'email': None,\n",
       "  'feilds': ['Physics', 'Nanoscience', 'Materials Science'],\n",
       "  'citedby': 'Cited by 9261'},\n",
       " 6: {'author_id': 'wQ6SDgIAAAAJ',\n",
       "  'name': 'Jian Chen',\n",
       "  'affiliation': 'EFS, Univ Brest, Inserm, UMR 1078, GGB, F-29200 Brest, France',\n",
       "  'email': None,\n",
       "  'feilds': ['Human genetics',\n",
       "   'mutational mechanisms',\n",
       "   'chronic pancreatitis'],\n",
       "  'citedby': 'Cited by 7373'},\n",
       " 7: {'author_id': '_kx4s9QAAAAJ',\n",
       "  'name': 'Jian Chen',\n",
       "  'affiliation': 'Professor of Computer Science, TU Dortmund University, Germany',\n",
       "  'email': None,\n",
       "  'feilds': ['real-time systems', 'embedded systems', 'power management'],\n",
       "  'citedby': 'Cited by 5217'},\n",
       " 8: {'author_id': 'o8PT69EAAAAJ',\n",
       "  'name': 'Jian Chen',\n",
       "  'affiliation': 'Professor, Institute of Automation, Chinese Academy of Sciences',\n",
       "  'email': None,\n",
       "  'feilds': ['Computer Vision', 'Machine Learning', 'AI Chips'],\n",
       "  'citedby': 'Cited by 3808'},\n",
       " 9: {'author_id': 'OBs9B5AAAAAJ',\n",
       "  'name': 'Jian Chen',\n",
       "  'affiliation': 'UESTC',\n",
       "  'email': None,\n",
       "  'feilds': ['Antenna'],\n",
       "  'citedby': 'Cited by 3783'},\n",
       " 10: {'author_id': 'Oiq-zv8AAAAJ',\n",
       "  'name': 'Jian Chen',\n",
       "  'affiliation': 'Nanosys, Seagate, University of Florida, Ohio State University, Peking University',\n",
       "  'email': None,\n",
       "  'feilds': ['nanotechnology'],\n",
       "  'citedby': 'Cited by 3690'},\n",
       " 11: {'author_id': 'sJDMYvoAAAAJ',\n",
       "  'name': 'Jian Chen',\n",
       "  'affiliation': 'Group Leader of bioinformatics and computational genomics, Hannover Medical School',\n",
       "  'email': None,\n",
       "  'feilds': ['Bioinformatics', 'Computational genomics', 'Chemometrics'],\n",
       "  'citedby': 'Cited by 2653'},\n",
       " 12: {'author_id': '9R1aERQAAAAJ',\n",
       "  'name': 'Jian Chen',\n",
       "  'affiliation': 'Associate Professor of Computer Science, The Ohio State University',\n",
       "  'email': None,\n",
       "  'feilds': ['Design and evaluation of visualization',\n",
       "   'tool design',\n",
       "   '3D interaction',\n",
       "   'virtual reality'],\n",
       "  'citedby': 'Cited by 2587'},\n",
       " 13: {'author_id': 'TwA1iewAAAAJ',\n",
       "  'name': 'Jian Chen',\n",
       "  'affiliation': 'Professor of Control Science, Zhejiang University',\n",
       "  'email': None,\n",
       "  'feilds': ['Nonlinear Systems',\n",
       "   'Computer Vision',\n",
       "   'Integration and Control of Fuel Cell Systems'],\n",
       "  'citedby': 'Cited by 2297'},\n",
       " 14: {'author_id': 'S83sJkIAAAAJ',\n",
       "  'name': 'Jian Chen',\n",
       "  'affiliation': 'Associate Professor, IAMT, CASHIPS',\n",
       "  'email': None,\n",
       "  'feilds': ['Multirobot', 'Industrial Robot', 'Bio-Inspired Robot'],\n",
       "  'citedby': 'Cited by 2278'}}"
      ]
     },
     "execution_count": 77,
     "metadata": {},
     "output_type": "execute_result"
    }
   ],
   "source": [
    "def find_class_name(soup, tag, text):\n",
    "    elements = soup.find_all(tag)\n",
    "    for element in elements:\n",
    "        if 'class' in element.attrs and text in element.attrs['class'][0]:\n",
    "            return element.attrs['class'][0]\n",
    "        else:\n",
    "            return None\n",
    "        \n",
    "def scholar_search(name, max_entry = 15):\n",
    "    url = _HOST+_AUTHSEARCH.format(requests.utils.quote(name))\n",
    "    \n",
    "    counter = 0\n",
    "    turn_page = True\n",
    "    number_of_entry=0\n",
    "    counter = 0\n",
    "    turn_page = True\n",
    "    entry = {}\n",
    "    authors = []\n",
    "    title = []\n",
    "    abstract = []\n",
    "    \n",
    "    while turn_page == True:\n",
    "\n",
    "        soup = get_soup(url)\n",
    "        \n",
    "        for row in soup.find_all('div', 'gsc_1usr'):\n",
    "            if counter == max_entry:\n",
    "                break\n",
    "            author_id = re.findall(_CITATIONAUTHRE, row('a')[0]['href'])[0]\n",
    "            author_name = soup.find('h3', class_=find_class_name(soup, 'h3', 'name')).text\n",
    "            for author_info in row.findAll('div', {'class':'gs_ai_t'}):\n",
    "                citedby=author_info.findAll('div', {'class':'gs_ai_cby'})[0].get_text(strip=True)\n",
    "                affiliation = author_info.findAll('div', {'class':'gs_ai_aff'})[0].get_text(strip=True)\n",
    "                feilds = [i.text.strip()  for i in\n",
    "                           author_info.findAll('a', {'class':'gs_ai_one_int'})]\n",
    "                \n",
    "            '''email = soup.find('div', class_=find_class_name(row, 'div', 'eml'))\n",
    "           \n",
    "            if email:\n",
    "                email = re.sub(_EMAILAUTHORRE, r'@', email.text)\n",
    "            else:\n",
    "                email = None'''\n",
    "                \n",
    "            \n",
    "            entry[number_of_entry] = {'author_id':author_id, 'name':author_name, \n",
    "                                      'affiliation':affiliation, 'email': None, \n",
    "                                      'feilds':feilds, 'citedby':citedby}\n",
    "            number_of_entry+=1\n",
    "            counter +=1\n",
    "            \n",
    "        if counter < max_entry:\n",
    "            next_page = soup.find(class_='gs_btnPR gs_in_ib gs_btn_half gs_btn_lsb gs_btn_srt gsc_pgn_pnx')\n",
    "            if next_page and 'disabled' not in next_page.attrs:\n",
    "                url = next_page['onclick'][17:-1]\n",
    "                url = _HOST + codecs.getdecoder(\"unicode_escape\")(url)[0]\n",
    "                soup = get_soup(url)\n",
    "            else:\n",
    "                turn_page = False\n",
    "            max_entry = max_entry - counter\n",
    "            counter = 0\n",
    "\n",
    "        else:\n",
    "            turn_page = False\n",
    "    \n",
    "    return entry\n",
    "scholar_search('Jian Chen')"
   ]
  },
  {
   "cell_type": "code",
   "execution_count": 87,
   "metadata": {
    "colab": {},
    "colab_type": "code",
    "id": "TwNJT2MrNnJ5",
    "outputId": "641766d2-a5f8-40eb-af4f-6e4c390b9929"
   },
   "outputs": [
    {
     "name": "stdout",
     "output_type": "stream",
     "text": [
      "https://scholar.google.com/scholar?q=Cultural%20Revolution\n"
     ]
    }
   ],
   "source": []
  },
  {
   "cell_type": "code",
   "execution_count": null,
   "metadata": {
    "colab": {},
    "colab_type": "code",
    "id": "vIg3cu3hNnJ9"
   },
   "outputs": [],
   "source": []
  }
 ],
 "metadata": {
  "colab": {
   "name": "Web .ipynb",
   "provenance": []
  },
  "kernelspec": {
   "display_name": "Python 3",
   "language": "python",
   "name": "python3"
  },
  "language_info": {
   "codemirror_mode": {
    "name": "ipython",
    "version": 3
   },
   "file_extension": ".py",
   "mimetype": "text/x-python",
   "name": "python",
   "nbconvert_exporter": "python",
   "pygments_lexer": "ipython3",
   "version": "3.7.6"
  }
 },
 "nbformat": 4,
 "nbformat_minor": 1
}
